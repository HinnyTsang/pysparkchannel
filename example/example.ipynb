{
 "cells": [
  {
   "attachments": {},
   "cell_type": "markdown",
   "metadata": {},
   "source": [
    "# Example usage on HPE"
   ]
  },
  {
   "attachments": {},
   "cell_type": "markdown",
   "metadata": {},
   "source": [
    "### 1. Connect to the spark session\n",
    "\n",
    "### 2. Download the source code by the procedure of [README.md](../README.md)"
   ]
  },
  {
   "cell_type": "code",
   "execution_count": 11,
   "metadata": {},
   "outputs": [
    {
     "name": "stdout",
     "output_type": "stream",
     "text": [
      "Checked out revision 8.\n"
     ]
    }
   ],
   "source": [
    "%%bash\n",
    "\n",
    "svn checkout https://github.com/HinnyTsang/pysparkchannel/trunk/pysparkchannel"
   ]
  },
  {
   "attachments": {},
   "cell_type": "markdown",
   "metadata": {},
   "source": [
    "### 3. Run the following cells\n",
    "\n",
    "The example will regenerate `module_a` and `module_b` in `dest` directory."
   ]
  },
  {
   "cell_type": "code",
   "execution_count": 10,
   "metadata": {},
   "outputs": [],
   "source": [
    "# %%local\n",
    "# Run this cell in local\n",
    "\n",
    "# Import the pysparkchannel module\n",
    "import os\n",
    "import shutil\n",
    "import sys\n",
    "sys.path.append('..')\n",
    "\n",
    "import importlib\n",
    "from pysparkchannel import core \n",
    "importlib.reload(core)\n",
    "ModuleParser = core.ModuleParser\n",
    "\n",
    "# Remove file if exist\n",
    "if os.path.exists(\"dist\"):\n",
    "    shutil.rmtree(\"dist\", ignore_errors=True)\n",
    "\n",
    "# Create the parser\n",
    "parser = core.ModuleParser(verbose = False)\n",
    "\n",
    "# Parse the cus\n",
    "# tom module one by one.\n",
    "parser \\\n",
    "    .parse_module(\"sample/module_a\") \\\n",
    "    .parse_module(\"sample/module_b\") \\\n",
    "    .module_to_json()\n",
    "\n",
    "# Generate script to rewrite the module on spark cluster\n",
    "parsed_modules = parser.parsed_modules\n",
    "rebuild_script = parser.generate_script()"
   ]
  },
  {
   "attachments": {},
   "cell_type": "markdown",
   "metadata": {},
   "source": [
    "### 4. Use spark magic to copy the script to the spark session"
   ]
  },
  {
   "cell_type": "code",
   "execution_count": 11,
   "metadata": {},
   "outputs": [],
   "source": [
    "# %%send_to_spark -i parsed_modules -t str -n parsed_modules"
   ]
  },
  {
   "cell_type": "code",
   "execution_count": 12,
   "metadata": {},
   "outputs": [],
   "source": [
    "# %%send_to_spark -i rebuild_script -t str -n rebuild_script"
   ]
  },
  {
   "attachments": {},
   "cell_type": "markdown",
   "metadata": {},
   "source": [
    "### 5. Run the script on the spark session to regenerate the modules"
   ]
  },
  {
   "cell_type": "code",
   "execution_count": 14,
   "metadata": {},
   "outputs": [
    {
     "name": "stdout",
     "output_type": "stream",
     "text": [
      "Reconstructing folder test/sample/module_a\n",
      "Reconstructing file test/sample/module_a/example_table_out.xlsx\n",
      "Reconstructing file test/sample/module_a/__init__.py\n",
      "Reconstructing file test/sample/module_a/example_table.xlsx\n",
      "Reconstructing folder test/sample/module_b\n",
      "Reconstructing folder test/sample/module_b/sub_module_i\n",
      "Reconstructing file test/sample/module_b/sub_module_i/sub_module_ii.py\n",
      "Reconstructing file test/sample/module_b/sub_module_i/__init__.py\n",
      "Reconstructing file test/sample/module_b/module_bi.py\n",
      "Reconstructing file test/sample/module_b/__init__.py\n"
     ]
    }
   ],
   "source": [
    "# %%spark\n",
    "\n",
    "with open(\"parsed_modules.json\", \"w\", encoding=\"utf-8\") as file:\n",
    "    file.write(parser.parsed_modules) \n",
    "\n",
    "# Execute the script to rebuild the modules\n",
    "exec(rebuild_script)"
   ]
  }
 ],
 "metadata": {
  "kernelspec": {
   "display_name": "base",
   "language": "python",
   "name": "python3"
  },
  "language_info": {
   "codemirror_mode": {
    "name": "ipython",
    "version": 3
   },
   "file_extension": ".py",
   "mimetype": "text/x-python",
   "name": "python",
   "nbconvert_exporter": "python",
   "pygments_lexer": "ipython3",
   "version": "3.9.12"
  },
  "orig_nbformat": 4,
  "vscode": {
   "interpreter": {
    "hash": "32a3b9ca4b076343ba6d70f9e249a2bd7929cce5ce18abd3de2b1f8b52c74659"
   }
  }
 },
 "nbformat": 4,
 "nbformat_minor": 2
}
