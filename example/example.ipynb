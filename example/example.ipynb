{
 "cells": [
  {
   "attachments": {},
   "cell_type": "markdown",
   "metadata": {},
   "source": [
    "# Example usage on HPE"
   ]
  },
  {
   "attachments": {},
   "cell_type": "markdown",
   "metadata": {},
   "source": [
    "### 1. Connect to the spark session\n",
    "\n",
    "### 2. Download the source code by the procedure of [README.md](../README.md)"
   ]
  },
  {
   "cell_type": "code",
   "execution_count": 11,
   "metadata": {},
   "outputs": [
    {
     "name": "stdout",
     "output_type": "stream",
     "text": [
      "Checked out revision 8.\n"
     ]
    }
   ],
   "source": [
    "%%bash\n",
    "\n",
    "svn checkout https://github.com/HinnyTsang/pysparkchannel/trunk/pysparkchannel"
   ]
  },
  {
   "attachments": {},
   "cell_type": "markdown",
   "metadata": {},
   "source": [
    "### 3. Run the following cells\n",
    "\n",
    "The example will regenerate `module_a` and `module_b` in `dest` directory."
   ]
  },
  {
   "cell_type": "code",
   "execution_count": 22,
   "metadata": {},
   "outputs": [],
   "source": [
    "# %%local\n",
    "# Run this cell in local\n",
    "\n",
    "# Import the pysparkchannel module\n",
    "import os\n",
    "import shutil\n",
    "import sys\n",
    "sys.path.append('..')\n",
    "import importlib\n",
    "\n",
    "from pysparkchannel import core\n",
    "importlib.reload(core)\n",
    "\n",
    "# Remove file if exist\n",
    "if os.path.exists(\"dest\"):\n",
    "    shutil.rmtree(\"dest\", ignore_errors=True)\n",
    "\n",
    "# Create the parser\n",
    "parser = core.ModuleParser(verbose = False)\n",
    "\n",
    "# Parse the cus\n",
    "# tom module one by one.\n",
    "parser \\\n",
    "    .parse_module(\"module_a\") \\\n",
    "    .parse_module(\"module_b\")\n",
    "\n",
    "# Generate script to rewrite the module on spark cluster\n",
    "script = parser.generate_script(\"dest\")"
   ]
  },
  {
   "cell_type": "code",
   "execution_count": 24,
   "metadata": {},
   "outputs": [
    {
     "name": "stderr",
     "output_type": "stream",
     "text": [
      "Traceback (most recent call last):\n",
      "  File \"/home/hinny/data-science/pysparkchannel/example/script.py\", line 66, in <module>\n",
      "    main()\n",
      "  File \"/home/hinny/data-science/pysparkchannel/example/script.py\", line 62, in main\n",
      "    reconstruct_modules(decode_expression(BASE_PATH))\n",
      "  File \"/home/hinny/data-science/pysparkchannel/example/script.py\", line 29, in reconstruct_modules\n",
      "    loaded_modules: Dict[str, Folder] = json.loads(decode_expression(JSON_STRING))\n",
      "  File \"/home/hinny/anaconda3/lib/python3.9/json/__init__.py\", line 346, in loads\n",
      "    return _default_decoder.decode(s)\n",
      "  File \"/home/hinny/anaconda3/lib/python3.9/json/decoder.py\", line 337, in decode\n",
      "    obj, end = self.raw_decode(s, idx=_w(s, 0).end())\n",
      "  File \"/home/hinny/anaconda3/lib/python3.9/json/decoder.py\", line 355, in raw_decode\n",
      "    raise JSONDecodeError(\"Expecting value\", s, err.value) from None\n",
      "json.decoder.JSONDecodeError: Expecting value: line 1 column 1 (char 0)\n"
     ]
    },
    {
     "ename": "CalledProcessError",
     "evalue": "Command '['python', 'script.py']' returned non-zero exit status 1.",
     "output_type": "error",
     "traceback": [
      "\u001b[0;31m---------------------------------------------------------------------------\u001b[0m",
      "\u001b[0;31mCalledProcessError\u001b[0m                        Traceback (most recent call last)",
      "\u001b[1;32m/home/hinny/data-science/pysparkchannel/example/example.ipynb Cell 6\u001b[0m in \u001b[0;36m<cell line: 16>\u001b[0;34m()\u001b[0m\n\u001b[1;32m     <a href='vscode-notebook-cell://wsl%2Bubuntu-20.04/home/hinny/data-science/pysparkchannel/example/example.ipynb#X21sdnNjb2RlLXJlbW90ZQ%3D%3D?line=12'>13</a>\u001b[0m \u001b[39mwith\u001b[39;00m \u001b[39mopen\u001b[39m(\u001b[39m\"\u001b[39m\u001b[39mscript.py\u001b[39m\u001b[39m\"\u001b[39m, \u001b[39m\"\u001b[39m\u001b[39mw\u001b[39m\u001b[39m\"\u001b[39m, encoding\u001b[39m=\u001b[39m\u001b[39m\"\u001b[39m\u001b[39mutf-8\u001b[39m\u001b[39m\"\u001b[39m) \u001b[39mas\u001b[39;00m file:\n\u001b[1;32m     <a href='vscode-notebook-cell://wsl%2Bubuntu-20.04/home/hinny/data-science/pysparkchannel/example/example.ipynb#X21sdnNjb2RlLXJlbW90ZQ%3D%3D?line=13'>14</a>\u001b[0m     file\u001b[39m.\u001b[39mwrite(script)\n\u001b[0;32m---> <a href='vscode-notebook-cell://wsl%2Bubuntu-20.04/home/hinny/data-science/pysparkchannel/example/example.ipynb#X21sdnNjb2RlLXJlbW90ZQ%3D%3D?line=15'>16</a>\u001b[0m subprocess\u001b[39m.\u001b[39;49mcheck_output([\u001b[39m\"\u001b[39;49m\u001b[39mpython\u001b[39;49m\u001b[39m\"\u001b[39;49m, \u001b[39m\"\u001b[39;49m\u001b[39mscript.py\u001b[39;49m\u001b[39m\"\u001b[39;49m])\n",
      "File \u001b[0;32m~/anaconda3/lib/python3.9/subprocess.py:424\u001b[0m, in \u001b[0;36mcheck_output\u001b[0;34m(timeout, *popenargs, **kwargs)\u001b[0m\n\u001b[1;32m    421\u001b[0m         empty \u001b[39m=\u001b[39m \u001b[39mb\u001b[39m\u001b[39m'\u001b[39m\u001b[39m'\u001b[39m\n\u001b[1;32m    422\u001b[0m     kwargs[\u001b[39m'\u001b[39m\u001b[39minput\u001b[39m\u001b[39m'\u001b[39m] \u001b[39m=\u001b[39m empty\n\u001b[0;32m--> 424\u001b[0m \u001b[39mreturn\u001b[39;00m run(\u001b[39m*\u001b[39;49mpopenargs, stdout\u001b[39m=\u001b[39;49mPIPE, timeout\u001b[39m=\u001b[39;49mtimeout, check\u001b[39m=\u001b[39;49m\u001b[39mTrue\u001b[39;49;00m,\n\u001b[1;32m    425\u001b[0m            \u001b[39m*\u001b[39;49m\u001b[39m*\u001b[39;49mkwargs)\u001b[39m.\u001b[39mstdout\n",
      "File \u001b[0;32m~/anaconda3/lib/python3.9/subprocess.py:528\u001b[0m, in \u001b[0;36mrun\u001b[0;34m(input, capture_output, timeout, check, *popenargs, **kwargs)\u001b[0m\n\u001b[1;32m    526\u001b[0m     retcode \u001b[39m=\u001b[39m process\u001b[39m.\u001b[39mpoll()\n\u001b[1;32m    527\u001b[0m     \u001b[39mif\u001b[39;00m check \u001b[39mand\u001b[39;00m retcode:\n\u001b[0;32m--> 528\u001b[0m         \u001b[39mraise\u001b[39;00m CalledProcessError(retcode, process\u001b[39m.\u001b[39margs,\n\u001b[1;32m    529\u001b[0m                                  output\u001b[39m=\u001b[39mstdout, stderr\u001b[39m=\u001b[39mstderr)\n\u001b[1;32m    530\u001b[0m \u001b[39mreturn\u001b[39;00m CompletedProcess(process\u001b[39m.\u001b[39margs, retcode, stdout, stderr)\n",
      "\u001b[0;31mCalledProcessError\u001b[0m: Command '['python', 'script.py']' returned non-zero exit status 1."
     ]
    }
   ],
   "source": [
    "# %%spark\n",
    "import json\n",
    "import subprocess\n",
    "\n",
    "parsed_modules = parser.parsed_modules \\\n",
    "    .replace('`', '\"')\n",
    "\n",
    "script = script.replace('`', '\"')\n",
    "\n",
    "with open(\"structure.json\", \"w\", encoding=\"utf-8\") as file:\n",
    "    json.dump(parsed_modules, file, ensure_ascii=True, indent=4)\n",
    "    \n",
    "with open(\"script.py\", \"w\", encoding=\"utf-8\") as file:\n",
    "    file.write(script)\n",
    "\n",
    "subprocess.check_output([\"python\", \"script.py\"])    "
   ]
  },
  {
   "attachments": {},
   "cell_type": "markdown",
   "metadata": {},
   "source": [
    "### 4. Use spark magic to copy the script to the spark session"
   ]
  },
  {
   "cell_type": "code",
   "execution_count": 4,
   "metadata": {},
   "outputs": [],
   "source": [
    "# %%send_to_spark -i script -t str -n script"
   ]
  },
  {
   "attachments": {},
   "cell_type": "markdown",
   "metadata": {},
   "source": [
    "### 5. Run the script on the spark session to regenerate the modules"
   ]
  },
  {
   "cell_type": "code",
   "execution_count": 5,
   "metadata": {},
   "outputs": [
    {
     "name": "stdout",
     "output_type": "stream",
     "text": [
      "Reconstructing folder dest/module_a\n",
      "Reconstructing file dest/module_a/__init__.py\n",
      "Reconstructing folder dest/module_b\n",
      "Reconstructing folder dest/module_b/sub_module_i\n",
      "Reconstructing file dest/module_b/sub_module_i/sub_module_ii.py\n",
      "Reconstructing file dest/module_b/sub_module_i/__init__.py\n",
      "Reconstructing file dest/module_b/module_bi.py\n",
      "Reconstructing file dest/module_b/__init__.py\n"
     ]
    }
   ],
   "source": [
    "# %%spark\n",
    "\n",
    "# Execute the script to rebuild the modules\n",
    "exec(script)"
   ]
  }
 ],
 "metadata": {
  "kernelspec": {
   "display_name": "base",
   "language": "python",
   "name": "python3"
  },
  "language_info": {
   "codemirror_mode": {
    "name": "ipython",
    "version": 3
   },
   "file_extension": ".py",
   "mimetype": "text/x-python",
   "name": "python",
   "nbconvert_exporter": "python",
   "pygments_lexer": "ipython3",
   "version": "3.9.12"
  },
  "orig_nbformat": 4,
  "vscode": {
   "interpreter": {
    "hash": "32a3b9ca4b076343ba6d70f9e249a2bd7929cce5ce18abd3de2b1f8b52c74659"
   }
  }
 },
 "nbformat": 4,
 "nbformat_minor": 2
}
